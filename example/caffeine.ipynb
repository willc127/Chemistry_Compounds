{
 "cells": [
  {
   "cell_type": "code",
   "execution_count": 1,
   "metadata": {},
   "outputs": [],
   "source": [
    "import pubchempy as pcp #getting compounds from PubChem\n",
    "from rdkit import Chem #importing RDKit to draw molecules"
   ]
  },
  {
   "cell_type": "code",
   "execution_count": 2,
   "metadata": {},
   "outputs": [],
   "source": [
    "cid = pcp.get_compounds('caffeine', 'name')\n",
    "c = pcp.Compound.from_cid(cid[0].cid)"
   ]
  },
  {
   "cell_type": "code",
   "execution_count": 5,
   "metadata": {},
   "outputs": [
    {
     "name": "stdout",
     "output_type": "stream",
     "text": [
      "Molecular formula: C8H10N4O2\n",
      "Molecular weight: 194.19 g/mol\n",
      "IUPAC Name: 1,3,7-trimethylpurine-2,6-dione\n"
     ]
    },
    {
     "data": {
      "text/plain": [
       "['caffeine', '58-08-2', 'Guaranine']"
      ]
     },
     "metadata": {},
     "output_type": "display_data"
    },
    {
     "data": {
      "image/png": "[encoded data removed]",
      "text/plain": [
       "<rdkit.Chem.rdchem.Mol at 0x282f986a0a0>"
      ]
     },
     "metadata": {},
     "output_type": "display_data"
    },
    {
     "name": "stdout",
     "output_type": "stream",
     "text": [
      "SMILES: CN1C=NC2=C1C(=O)N(C(=O)N2C)C\n"
     ]
    }
   ],
   "source": [
    "print('Molecular formula: ' + c.molecular_formula)\n",
    "print('Molecular weight: ' + c.molecular_weight + ' g/mol')\n",
    "print('IUPAC Name: ' + c.iupac_name)\n",
    "display(c.synonyms[0:3])\n",
    "\n",
    "molecule = Chem.MolFromSmiles(c.canonical_smiles)\n",
    "display(molecule)\n",
    "\n",
    "print('SMILES: ' + c.canonical_smiles)"
   ]
  }
 ],
 "metadata": {
  "kernelspec": {
   "display_name": "Python 3",
   "language": "python",
   "name": "python3"
  },
  "language_info": {
   "codemirror_mode": {
    "name": "ipython",
    "version": 3
   },
   "file_extension": ".py",
   "mimetype": "text/x-python",
   "name": "python",
   "nbconvert_exporter": "python",
   "pygments_lexer": "ipython3",
   "version": "3.11.1"
  },
  "orig_nbformat": 4
 },
 "nbformat": 4,
 "nbformat_minor": 2
}
