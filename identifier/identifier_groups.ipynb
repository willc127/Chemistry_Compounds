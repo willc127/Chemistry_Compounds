{
 "cells": [
  {
   "cell_type": "code",
   "execution_count": 1,
   "metadata": {},
   "outputs": [],
   "source": [
    "import pubchempy as pcp #getting compounds from PubChem\n",
    "from rdkit import Chem #importing RDKit to draw molecules\n",
    "from rdkit.Chem import Draw\n",
    "import pandas as pd\n",
    "from IPython.display import display, Image"
   ]
  },
  {
   "cell_type": "code",
   "execution_count": 100,
   "metadata": {},
   "outputs": [],
   "source": [
    "\n",
    "# Definições de padrões SMARTS para diferentes grupos funcionais\n",
    "functional_groups = {\n",
    "    'Álcool primário': '[!O]CO',  # Grupo hidroxila ligado a um carbono sp3\n",
    "    'Aldeído': '[CH](=O)',  # Carbono duplamente ligado a oxigênio e ligado a um hidrogênio\n",
    "    'Cetona': 'C(=O)',  # Carbono duplamente ligado a oxigênio e ligado a dois carbonos\n",
    "    'Ácido carboxílico': '[C](=O)[OH]',  # Carbono duplamente ligado a oxigênio e ligado a um grupo hidroxila\n",
    "    'Éster': 'C(=O)O',  # Carbono duplamente ligado a oxigênio e ligado a um oxigênio ligado a outro carbono\n",
    "    'Amina primária': '[NH2;!$(NC=O)]',  # Nitrogênio ligado a um carbono sp3 e dois hidrogênios\n",
    "    'Amina secundária': '[NH;!$(NC=O)]',  # Nitrogênio ligado a um carbono sp3 e um hidrogênio\n",
    "    'Amina terciária': '[N;!H;!$(NC=O)]',  # Nitrogênio ligado a três carbonos sp3\n",
    "    'Amida': '[NX3][CX3](=O)',  # Nitrogênio ligado a um carbono duplamente ligado a oxigênio\n",
    "    'Éter': '[CX3]O[CX3]',  # Oxigênio ligado a dois carbonos sp3\n",
    "    'Haleto de alquila': '[F,Cl,Br,I][CX4]',  # Halogênio ligado a um carbono sp3\n",
    "    'Anel aromático': 'a',  # Qualquer átomo em um anel aromático\n",
    "    'Fenol': 'c1ccccc1O[!C]',  # Anel aromático com hidroxila\n",
    "    'Anilina': 'c1ccccc1N',  # Anel aromático com grupo amino\n",
    "    'Tiol': '[SH]',  # Grupo tiol\n",
    "    'Alceno':'C=C',\n",
    "    'Alcino': 'C#C',  # Tripla ligação carbono-carbono\n",
    "    'Nitrilo': '[CX2]#N',  # Tripla ligação carbono-nitrogênio\n",
    "    'Imida': '[CX3](=O)[NX3](=O)',  # Grupo imida\n",
    "    'Nitro': '[NX3](=O)=O',  # Grupo nitro\n",
    "    'Sulfonamida': '[NX3][SX4](=O)(=O)',  # Grupo sulfonamida\n",
    "    'Sulfonato': '[SX4](=O)(=O)[O-]',  # Grupo sulfonato\n",
    "    'Tioéter': '[SX2][CX4]',  # Grupo tioéter\n",
    "    'Ácido Sulfônico': '[SX4](=O)(=O)[OX2H1]',  # Grupo ácido sulfônico\n",
    "    'Sulfoxida': '[#16X3](=[OX1])',  # Grupo sulfoxida\n",
    "    'Sulfona': '[#16X4](=[OX1])(=[OX1])',  # Grupo sulfona\n",
    "    'Peróxido': '[OX2][OX2]',  # Grupo peróxido\n",
    "    'Anidrido': '[CX3](=[OX1])[OX2][CX3](=[OX1])',  # Grupo anidrido\n",
    "    'Epóxido': '[CX4]1[OX2][CX4]1',  # Grupo epóxido\n",
    "    'Tioalcoxi': '[#16][OX2]',  # Grupo tioalcoxi\n",
    "    'Isocianato': '[NX2]=[CX2]=[OX1]',  # Grupo isocianato\n",
    "    'Isotiocianato': '[NX2]=[CX2]=[SX1]',  # Grupo isotiocianato\n",
    "    'Diazocomposto': '[NX2]=[NX2]',  # Grupo diazocomposto\n",
    "    'Azido': '[NX3][NX2]=[NX1]',  # Grupo azido\n",
    "    'Fosfina': '[PX3]',  # Grupo fosfina\n",
    "    'Fosfato': '[PX4](=O)(O)(O)(O)',  # Grupo fosfato\n",
    "    'Hidrato de Carbono': '[CX4][OX2H]',  # Hidrato de carbono (açúcar simples)\n",
    "    'Glicósido': '[CX4][OX2][CX4]',  # Grupo glicósido\n",
    "    'Enol': '[CX3]=[CX3][OX2H]',  # Grupo enol\n",
    "    'Enamina': '[CX3]=[CX3][NX3;H2,H1;!$(NC=O)]',  # Grupo enamina\n",
    "    'Azo': '[NX2]=[NX2]',  # Grupo azo\n",
    "    'Hidrazona': '[NX3]=[CX3]',  # Grupo hidrazona\n",
    "    'Hidroxilamina': '[NX3][OX2H]',  # Grupo hidroxilamina\n",
    "    'Oximas': '[CX3](=N[OX2H1])',  # Grupo oximas\n",
    "    'Isocianida': '[CX2]#[NX2]',  # Grupo isocianida\n",
    "    'Imidoéster': '[CX3](=N)[OX2]',  # Grupo imidoéster\n",
    "    'Carbamato': '[NX3][CX3](=O)[OX2]',  # Grupo carbamato\n",
    "    'Ureia': '[NX3][CX3](=O)[NX3]',  # Grupo ureia\n",
    "    'Guanidina': '[NX3][CX3](=N)[NX3]',  # Grupo guanidina\n",
    "}\n"
   ]
  },
  {
   "cell_type": "code",
   "execution_count": 101,
   "metadata": {},
   "outputs": [],
   "source": [
    "\n",
    "def identify_functional_groups(smiles):\n",
    "    mol2 = Chem.MolFromSmiles(smiles)\n",
    "    if mol2 is None:\n",
    "        raise ValueError(\"Invalid SMILES string\")\n",
    "    \n",
    "    identified_groups = {}\n",
    "    \n",
    "    for group_name, smarts in functional_groups.items():\n",
    "        patt = Chem.MolFromSmarts(smarts)\n",
    "        if mol2.HasSubstructMatch(patt):\n",
    "            identified_groups[group_name] = mol2.GetSubstructMatches(patt)\n",
    "    \n",
    "    return identified_groups\n"
   ]
  },
  {
   "cell_type": "code",
   "execution_count": 102,
   "metadata": {},
   "outputs": [],
   "source": [
    "def create_functional_groups_dataframe(identified_groups):\n",
    "    group_counts = {group: len(matches) for group, matches in identified_groups.items()}\n",
    "    df = pd.DataFrame(list(group_counts.items()), columns=['Função Orgânica', 'Quantidade'])\n",
    "    return df"
   ]
  },
  {
   "cell_type": "code",
   "execution_count": 103,
   "metadata": {},
   "outputs": [],
   "source": [
    "def draw_molecule_with_functional_groups(smiles):\n",
    "    mol = Chem.MolFromSmiles(smiles)\n",
    "    drawer = Draw.rdMolDraw2D.MolDraw2DCairo(500, 500)\n",
    "    drawer.DrawMolecule(mol)\n",
    "    drawer.FinishDrawing()\n",
    "    \n",
    "    mol2 = Chem.MolFromSmiles(smiles)\n",
    "    if mol2 is None:\n",
    "        raise ValueError(\"Invalid SMILES string\")\n",
    "\n",
    "    \n",
    "    identified_groups = identify_functional_groups(smiles)\n",
    "    drawer2 = Draw.rdMolDraw2D.MolDraw2DCairo(500, 500)\n",
    "    opts = drawer2.drawOptions()\n",
    "    \n",
    "    highlight_atoms = []\n",
    "    highlight_bonds = []\n",
    "    highlight_colors = {}\n",
    "\n",
    "    color_palette = [\n",
    "        (1.0, 1.0, 0.0),  # Yellow\n",
    "        (0.3, 1.0, 0.0),  # Green\n",
    "        (0.2, 0.6, 1.0),  # Light Blue\n",
    "        (1.0, 0.5, 0.0),  # Orange\n",
    "        (1.0, 0.5, 1.0),  # Magenta\n",
    "        (0.0, 1.0, 1.0),  # Cyan\n",
    "    ]\n",
    "    \n",
    "    color_idx = 0\n",
    "    \n",
    "    for group_name, matches in identified_groups.items():\n",
    "        color = color_palette[color_idx % len(color_palette)]\n",
    "        color_idx += 1\n",
    "        for match in matches:\n",
    "            highlight_atoms.extend(list(match))\n",
    "            highlight_colors.update({i: color for i in match})\n",
    "            # Add bonds to the highlight list\n",
    "            for i in range(len(match) - 1):\n",
    "                bond = mol2.GetBondBetweenAtoms(match[i], match[i+1])\n",
    "                if bond is not None:\n",
    "                    highlight_bonds.append(bond.GetIdx())\n",
    "            # Ensure to add the last bond in the functional group\n",
    "            if len(match) > 2:\n",
    "                bond = mol2.GetBondBetweenAtoms(match[-1], match[0])\n",
    "                if bond is not None:\n",
    "                    highlight_bonds.append(bond.GetIdx())\n",
    "    \n",
    "    drawer2.DrawMolecule(\n",
    "        mol2,\n",
    "        highlightAtoms=highlight_atoms,\n",
    "        highlightBonds=highlight_bonds,\n",
    "        \n",
    "        highlightAtomColors=highlight_colors,\n",
    "    )\n",
    "    drawer2.FinishDrawing()\n",
    "    return drawer.GetDrawingText(), drawer2.GetDrawingText()\n"
   ]
  },
  {
   "cell_type": "code",
   "execution_count": 104,
   "metadata": {},
   "outputs": [
    {
     "data": {
      "image/png": "[encoded data removed]",
      "text/plain": [
       "<IPython.core.display.Image object>"
      ]
     },
     "metadata": {},
     "output_type": "display_data"
    },
    {
     "data": {
      "text/html": [
       "<div>\n",
       "<style scoped>\n",
       "    .dataframe tbody tr th:only-of-type {\n",
       "        vertical-align: middle;\n",
       "    }\n",
       "\n",
       "    .dataframe tbody tr th {\n",
       "        vertical-align: top;\n",
       "    }\n",
       "\n",
       "    .dataframe thead th {\n",
       "        text-align: right;\n",
       "    }\n",
       "</style>\n",
       "<table border=\"1\" class=\"dataframe\">\n",
       "  <thead>\n",
       "    <tr style=\"text-align: right;\">\n",
       "      <th></th>\n",
       "      <th>Função Orgânica</th>\n",
       "      <th>Quantidade</th>\n",
       "    </tr>\n",
       "  </thead>\n",
       "  <tbody>\n",
       "    <tr>\n",
       "      <th>0</th>\n",
       "      <td>Álcool primário</td>\n",
       "      <td>1</td>\n",
       "    </tr>\n",
       "    <tr>\n",
       "      <th>1</th>\n",
       "      <td>Hidrato de Carbono</td>\n",
       "      <td>1</td>\n",
       "    </tr>\n",
       "  </tbody>\n",
       "</table>\n",
       "</div>"
      ],
      "text/plain": [
       "      Função Orgânica  Quantidade\n",
       "0     Álcool primário           1\n",
       "1  Hidrato de Carbono           1"
      ]
     },
     "metadata": {},
     "output_type": "display_data"
    },
    {
     "data": {
      "image/png": "[encoded data removed]",
      "text/plain": [
       "<IPython.core.display.Image object>"
      ]
     },
     "metadata": {},
     "output_type": "display_data"
    }
   ],
   "source": [
    "# Exemplo de uso\n",
    "smiles = \"CCO\" \n",
    "identified_groups = identify_functional_groups(smiles)\n",
    "img_data,img_data_groups = draw_molecule_with_functional_groups(smiles)\n",
    "display(Image(img_data))\n",
    "#cid = pcp.get_compounds(smiles, 'smiles')\n",
    "#c = pcp.Compound.from_cid(cid[0].cid)\n",
    "#print('IUPAC Name: ' + c.iupac_name)\n",
    "#print('Molecular formula: ' + c.molecular_formula)\n",
    "#print('Molecular weight: ' + c.molecular_weight + ' g/mol\\n')\n",
    "\n",
    "# Criar DataFrame\n",
    "df = create_functional_groups_dataframe(identified_groups)\n",
    "display(df)\n",
    "\n",
    "display(Image(img_data_groups))\n",
    "# Salva a imagem para um arquivo\n",
    "with open('molecule.png', 'wb') as f:\n",
    "    f.write(img_data_groups)"
   ]
  }
 ],
 "metadata": {
  "kernelspec": {
   "display_name": "Python 3",
   "language": "python",
   "name": "python3"
  },
  "language_info": {
   "codemirror_mode": {
    "name": "ipython",
    "version": 3
   },
   "file_extension": ".py",
   "mimetype": "text/x-python",
   "name": "python",
   "nbconvert_exporter": "python",
   "pygments_lexer": "ipython3",
   "version": "3.11.4"
  }
 },
 "nbformat": 4,
 "nbformat_minor": 2
}
