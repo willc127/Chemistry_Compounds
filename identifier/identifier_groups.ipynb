{
 "cells": [
  {
   "cell_type": "code",
   "execution_count": 1,
   "metadata": {},
   "outputs": [],
   "source": [
    "import pubchempy as pcp #getting compounds from PubChem\n",
    "from rdkit import Chem #importing RDKit to draw molecules\n",
    "from rdkit.Chem import Draw\n",
    "import pandas as pd\n",
    "from IPython.display import display, Image"
   ]
  },
  {
   "cell_type": "code",
   "execution_count": 604,
   "metadata": {},
   "outputs": [],
   "source": [
    "\n",
    "# Definições de padrões SMARTS para diferentes grupos funcionais\n",
    "functional_groups = {\n",
    "    'Álcool primário': '[$([C;!$(C=O);$([C;H2][OH])])]',  # Grupo hidroxila ligado a um carbono sp3\n",
    "    'Álcool secundário': '[$([C;!$(C=O);$([C;H1][OH])])]',  # Grupo hidroxila ligado a um carbono sp2\n",
    "    'Álcool terciário':'[$([C;!$(C=O);$([C;H0][OH])])]', # Grupo hidroxila ligado a um carbono sp\n",
    "    'Aldeído': '[$([CH]=O)]',  # Carbono duplamente ligado a oxigênio e ligado a um hidrogênio\n",
    "    'Cetona': '[#6][CX3](=O)[#6]',  # Carbono duplamente ligado a oxigênio e ligado a dois carbonos\n",
    "    'Ácido carboxílico': '[$([CX3](=O)[OX2H1])]',  # Carbono duplamente ligado a oxigênio e ligado a um grupo hidroxila\n",
    "    'Éster': '[$([CX3](=O)[OX2][CX4])]',  # Carbono duplamente ligado a oxigênio e ligado a um oxigênio ligado a outro carbono\n",
    "    'Amina primária': '[$([N;H2][C])]',  # Nitrogênio ligado a um carbono sp3 e dois hidrogênios\n",
    "    'Amina secundária': '[$([N;H1][C][C])]',  # Nitrogênio ligado a um carbono sp3 e um hidrogênio\n",
    "    'Amina terciária': '[$([N;H0][C][C][C])]',  # Nitrogênio ligado a três carbonos sp3\n",
    "    'Amida primária': '[CX3](=O)[NX3H2]',\n",
    "    'Amida secundária': '[CX3](=O)[NX3H1][CX4]',\n",
    "    'Amida terciária': '[CX3](=O)[NX3]([CX4])[CX4]',\n",
    "    'Éter': '[C;!$(C=O)]-O-[C;!$(C=O)]',  # Oxigênio ligado a dois carbonos sp3\n",
    "    'Haleto de alquila': '[#6][F,Cl,Br,I]',  # Halogênio ligado a um carbono sp3\n",
    "    'Tiol': '[#6][SH]',  # Grupo tiol\n",
    "    'Alceno':'[#6]=[#6]',\n",
    "    'Alcino': '[#6]#[#6]'  # Tripla ligação carbono-carbono\n",
    "}\n"
   ]
  },
  {
   "cell_type": "code",
   "execution_count": 595,
   "metadata": {},
   "outputs": [],
   "source": [
    "\n",
    "def identify_functional_groups(smiles):\n",
    "    mol2 = Chem.MolFromSmiles(smiles)\n",
    "    if mol2 is None:\n",
    "        raise ValueError(\"Invalid SMILES string\")\n",
    "    \n",
    "    identified_groups = {}\n",
    "    \n",
    "    for group_name, smarts in functional_groups.items():\n",
    "        patt = Chem.MolFromSmarts(smarts)\n",
    "        if mol2.HasSubstructMatch(patt):\n",
    "            identified_groups[group_name] = mol2.GetSubstructMatches(patt)\n",
    "    \n",
    "    return identified_groups\n"
   ]
  },
  {
   "cell_type": "code",
   "execution_count": 596,
   "metadata": {},
   "outputs": [],
   "source": [
    "def create_functional_groups_dataframe(identified_groups):\n",
    "    group_counts = {group: len(matches) for group, matches in identified_groups.items()}\n",
    "    df = pd.DataFrame(list(group_counts.items()), columns=['Função Orgânica', 'Quantidade'])\n",
    "    return df"
   ]
  },
  {
   "cell_type": "code",
   "execution_count": 597,
   "metadata": {},
   "outputs": [],
   "source": [
    "def draw_molecule_with_functional_groups(smiles):\n",
    "    mol = Chem.MolFromSmiles(smiles)\n",
    "    drawer = Draw.rdMolDraw2D.MolDraw2DCairo(500, 500)\n",
    "    drawer.DrawMolecule(mol)\n",
    "    drawer.FinishDrawing()\n",
    "    \n",
    "    mol2 = Chem.MolFromSmiles(smiles)\n",
    "    if mol2 is None:\n",
    "        raise ValueError(\"Invalid SMILES string\")\n",
    "\n",
    "    \n",
    "    identified_groups = identify_functional_groups(smiles)\n",
    "    drawer2 = Draw.rdMolDraw2D.MolDraw2DCairo(500, 500)\n",
    "    opts = drawer2.drawOptions()\n",
    "    \n",
    "    highlight_atoms = []\n",
    "    highlight_bonds = []\n",
    "    highlight_colors = {}\n",
    "\n",
    "    color_palette = [\n",
    "        (1.0, 1.0, 0.0),  # Yellow\n",
    "        (0.3, 1.0, 0.0),  # Green\n",
    "        (0.2, 0.6, 1.0),  # Light Blue\n",
    "        (1.0, 0.5, 0.0),  # Orange\n",
    "        (1.0, 0.5, 1.0),  # Magenta\n",
    "        (0.0, 1.0, 1.0),  # Cyan\n",
    "    ]\n",
    "    \n",
    "    color_idx = 0\n",
    "    \n",
    "    for group_name, matches in identified_groups.items():\n",
    "        color = color_palette[color_idx % len(color_palette)]\n",
    "        color_idx += 1\n",
    "        for match in matches:\n",
    "            highlight_atoms.extend(list(match))\n",
    "            highlight_colors.update({i: color for i in match})\n",
    "            # Add bonds to the highlight list\n",
    "            for i in range(len(match) - 1):\n",
    "                bond = mol2.GetBondBetweenAtoms(match[i], match[i+1])\n",
    "                if bond is not None:\n",
    "                    highlight_bonds.append(bond.GetIdx())\n",
    "            # Ensure to add the last bond in the functional group\n",
    "            if len(match) > 2:\n",
    "                bond = mol2.GetBondBetweenAtoms(match[-1], match[0])\n",
    "                if bond is not None:\n",
    "                    highlight_bonds.append(bond.GetIdx())\n",
    "    \n",
    "    drawer2.DrawMolecule(\n",
    "        mol2,\n",
    "        highlightAtoms=highlight_atoms,\n",
    "        highlightBonds=highlight_bonds,\n",
    "        \n",
    "        highlightAtomColors=highlight_colors,\n",
    "    )\n",
    "    drawer2.FinishDrawing()\n",
    "    return drawer.GetDrawingText(), drawer2.GetDrawingText()\n"
   ]
  },
  {
   "cell_type": "code",
   "execution_count": 613,
   "metadata": {},
   "outputs": [
    {
     "data": {
      "image/png": "[encoded data removed]",
      "text/plain": [
       "<IPython.core.display.Image object>"
      ]
     },
     "metadata": {},
     "output_type": "display_data"
    },
    {
     "data": {
      "text/html": [
       "<div>\n",
       "<style scoped>\n",
       "    .dataframe tbody tr th:only-of-type {\n",
       "        vertical-align: middle;\n",
       "    }\n",
       "\n",
       "    .dataframe tbody tr th {\n",
       "        vertical-align: top;\n",
       "    }\n",
       "\n",
       "    .dataframe thead th {\n",
       "        text-align: right;\n",
       "    }\n",
       "</style>\n",
       "<table border=\"1\" class=\"dataframe\">\n",
       "  <thead>\n",
       "    <tr style=\"text-align: right;\">\n",
       "      <th></th>\n",
       "      <th>Função Orgânica</th>\n",
       "      <th>Quantidade</th>\n",
       "    </tr>\n",
       "  </thead>\n",
       "  <tbody>\n",
       "    <tr>\n",
       "      <th>0</th>\n",
       "      <td>Amina terciária</td>\n",
       "      <td>1</td>\n",
       "    </tr>\n",
       "  </tbody>\n",
       "</table>\n",
       "</div>"
      ],
      "text/plain": [
       "   Função Orgânica  Quantidade\n",
       "0  Amina terciária           1"
      ]
     },
     "metadata": {},
     "output_type": "display_data"
    },
    {
     "data": {
      "image/png": "[encoded data removed]",
      "text/plain": [
       "<IPython.core.display.Image object>"
      ]
     },
     "metadata": {},
     "output_type": "display_data"
    }
   ],
   "source": [
    "# Exemplo de uso\n",
    "smiles = \"C(C)(C)N(C)C(C)C(C)\" \n",
    "identified_groups = identify_functional_groups(smiles)\n",
    "img_data,img_data_groups = draw_molecule_with_functional_groups(smiles)\n",
    "display(Image(img_data))\n",
    "#cid = pcp.get_compounds(smiles, 'smiles')\n",
    "#c = pcp.Compound.from_cid(cid[0].cid)\n",
    "#print('IUPAC Name: ' + c.iupac_name)\n",
    "#print('Molecular formula: ' + c.molecular_formula)\n",
    "#print('Molecular weight: ' + c.molecular_weight + ' g/mol\\n')\n",
    "\n",
    "# Criar DataFrame\n",
    "df = create_functional_groups_dataframe(identified_groups)\n",
    "display(df)\n",
    "\n",
    "display(Image(img_data_groups))\n",
    "# Salva a imagem para um arquivo\n",
    "with open('molecule.png', 'wb') as f:\n",
    "    f.write(img_data_groups)"
   ]
  }
 ],
 "metadata": {
  "kernelspec": {
   "display_name": "Python 3",
   "language": "python",
   "name": "python3"
  },
  "language_info": {
   "codemirror_mode": {
    "name": "ipython",
    "version": 3
   },
   "file_extension": ".py",
   "mimetype": "text/x-python",
   "name": "python",
   "nbconvert_exporter": "python",
   "pygments_lexer": "ipython3",
   "version": "3.11.4"
  }
 },
 "nbformat": 4,
 "nbformat_minor": 2
}
